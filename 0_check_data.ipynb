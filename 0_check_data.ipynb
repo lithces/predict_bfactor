{
 "cells": [
  {
   "cell_type": "code",
   "execution_count": 1,
   "id": "3e9f5176-e659-4e51-a241-7fb74aedde7a",
   "metadata": {},
   "outputs": [],
   "source": [
    "import numpy as np\n",
    "import pandas as pd"
   ]
  },
  {
   "cell_type": "code",
   "execution_count": 2,
   "id": "7dfd41dd-3e7b-4505-9c76-39a657fc4031",
   "metadata": {},
   "outputs": [],
   "source": [
    "X = np.load('x_61046.npy')"
   ]
  },
  {
   "cell_type": "code",
   "execution_count": 3,
   "id": "f84f2d22-66af-4aab-a91a-e4623661988f",
   "metadata": {},
   "outputs": [
    {
     "data": {
      "text/plain": [
       "(61194, 500, 29)"
      ]
     },
     "execution_count": 3,
     "metadata": {},
     "output_type": "execute_result"
    }
   ],
   "source": [
    "X.shape"
   ]
  },
  {
   "cell_type": "code",
   "execution_count": 4,
   "id": "4a38b1c2-5e5d-4bfc-9b58-f01c5f6670ce",
   "metadata": {},
   "outputs": [],
   "source": [
    "y = np.load('y_61046.npy')"
   ]
  },
  {
   "cell_type": "code",
   "execution_count": 5,
   "id": "e4c8bcbc-1ea3-4133-89d7-aa96572edd98",
   "metadata": {},
   "outputs": [
    {
     "data": {
      "text/plain": [
       "(61194, 500, 1)"
      ]
     },
     "execution_count": 5,
     "metadata": {},
     "output_type": "execute_result"
    }
   ],
   "source": [
    "y.shape"
   ]
  },
  {
   "cell_type": "code",
   "execution_count": 45,
   "id": "aede1309-331b-4119-879e-05c96ddbc308",
   "metadata": {},
   "outputs": [
    {
     "data": {
      "text/plain": [
       "(-18.16590212458494, 14.071247279470288)"
      ]
     },
     "execution_count": 45,
     "metadata": {},
     "output_type": "execute_result"
    }
   ],
   "source": [
    "y.min(), y.max()"
   ]
  },
  {
   "cell_type": "code",
   "execution_count": 13,
   "id": "4be6e6c8-08cf-402e-99bd-dd2e268b8a95",
   "metadata": {},
   "outputs": [
    {
     "data": {
      "text/plain": [
       "dtype('float64')"
      ]
     },
     "execution_count": 13,
     "metadata": {},
     "output_type": "execute_result"
    }
   ],
   "source": [
    "X.dtype"
   ]
  },
  {
   "cell_type": "code",
   "execution_count": 16,
   "id": "ad9d772b-06e1-4cfe-aa2d-42c5d7c96bfb",
   "metadata": {},
   "outputs": [],
   "source": [
    "import matplotlib.pyplot as plt"
   ]
  },
  {
   "cell_type": "code",
   "execution_count": 25,
   "id": "3c279c5f-5546-4bcd-878d-595b1b7c9810",
   "metadata": {},
   "outputs": [
    {
     "data": {
      "text/plain": [
       "-4.561450777662304"
      ]
     },
     "execution_count": 25,
     "metadata": {},
     "output_type": "execute_result"
    }
   ],
   "source": [
    "X.min()"
   ]
  },
  {
   "cell_type": "code",
   "execution_count": null,
   "id": "97e65d20-1ccf-4b59-9e8b-5b4e87f365ae",
   "metadata": {},
   "outputs": [],
   "source": [
    "# 24, 25, 26, 27"
   ]
  },
  {
   "cell_type": "code",
   "execution_count": 43,
   "id": "d01af5cf-03f6-4811-9a6c-c1bfa6f7a528",
   "metadata": {},
   "outputs": [
    {
     "name": "stdout",
     "output_type": "stream",
     "text": [
      "20 0.0 1.0\n",
      "21 0.0 1.0\n",
      "22 0.0 1.0\n",
      "23 0.0 1.0\n",
      "24 -4.143457803026967 4.159515261473267\n",
      "25 -4.561450777662304 4.141681859862633\n",
      "26 -4.207764457111378 4.013109406798028\n",
      "27 0.0 1.0\n",
      "28 0.0 500.0\n"
     ]
    }
   ],
   "source": [
    "for id in range(20,29):\n",
    "    print (id, X[:,:,id].min(), X[:,:,id].max())"
   ]
  },
  {
   "cell_type": "code",
   "execution_count": 47,
   "id": "d60380a2-4797-4fdc-abd4-11b228d48011",
   "metadata": {},
   "outputs": [],
   "source": [
    "A = X[:,:,-1]"
   ]
  },
  {
   "cell_type": "code",
   "execution_count": 48,
   "id": "5bf3d31a-d820-4c72-a120-57b0a51a475d",
   "metadata": {},
   "outputs": [],
   "source": [
    "df = pd.DataFrame(data=A)"
   ]
  },
  {
   "cell_type": "code",
   "execution_count": 49,
   "id": "e6d10ee3-94b3-4680-8418-ac15b601cb42",
   "metadata": {},
   "outputs": [
    {
     "data": {
      "text/html": [
       "<div>\n",
       "<style scoped>\n",
       "    .dataframe tbody tr th:only-of-type {\n",
       "        vertical-align: middle;\n",
       "    }\n",
       "\n",
       "    .dataframe tbody tr th {\n",
       "        vertical-align: top;\n",
       "    }\n",
       "\n",
       "    .dataframe thead th {\n",
       "        text-align: right;\n",
       "    }\n",
       "</style>\n",
       "<table border=\"1\" class=\"dataframe\">\n",
       "  <thead>\n",
       "    <tr style=\"text-align: right;\">\n",
       "      <th></th>\n",
       "      <th>0</th>\n",
       "      <th>1</th>\n",
       "      <th>2</th>\n",
       "      <th>3</th>\n",
       "      <th>4</th>\n",
       "      <th>5</th>\n",
       "      <th>6</th>\n",
       "      <th>7</th>\n",
       "      <th>8</th>\n",
       "      <th>9</th>\n",
       "      <th>...</th>\n",
       "      <th>490</th>\n",
       "      <th>491</th>\n",
       "      <th>492</th>\n",
       "      <th>493</th>\n",
       "      <th>494</th>\n",
       "      <th>495</th>\n",
       "      <th>496</th>\n",
       "      <th>497</th>\n",
       "      <th>498</th>\n",
       "      <th>499</th>\n",
       "    </tr>\n",
       "  </thead>\n",
       "  <tbody>\n",
       "    <tr>\n",
       "      <th>0</th>\n",
       "      <td>274.0</td>\n",
       "      <td>274.0</td>\n",
       "      <td>274.0</td>\n",
       "      <td>274.0</td>\n",
       "      <td>274.0</td>\n",
       "      <td>274.0</td>\n",
       "      <td>274.0</td>\n",
       "      <td>274.0</td>\n",
       "      <td>274.0</td>\n",
       "      <td>274.0</td>\n",
       "      <td>...</td>\n",
       "      <td>274.0</td>\n",
       "      <td>274.0</td>\n",
       "      <td>274.0</td>\n",
       "      <td>274.0</td>\n",
       "      <td>274.0</td>\n",
       "      <td>274.0</td>\n",
       "      <td>274.0</td>\n",
       "      <td>274.0</td>\n",
       "      <td>274.0</td>\n",
       "      <td>274.0</td>\n",
       "    </tr>\n",
       "    <tr>\n",
       "      <th>1</th>\n",
       "      <td>127.0</td>\n",
       "      <td>127.0</td>\n",
       "      <td>127.0</td>\n",
       "      <td>127.0</td>\n",
       "      <td>127.0</td>\n",
       "      <td>127.0</td>\n",
       "      <td>127.0</td>\n",
       "      <td>127.0</td>\n",
       "      <td>127.0</td>\n",
       "      <td>127.0</td>\n",
       "      <td>...</td>\n",
       "      <td>127.0</td>\n",
       "      <td>127.0</td>\n",
       "      <td>127.0</td>\n",
       "      <td>127.0</td>\n",
       "      <td>127.0</td>\n",
       "      <td>127.0</td>\n",
       "      <td>127.0</td>\n",
       "      <td>127.0</td>\n",
       "      <td>127.0</td>\n",
       "      <td>127.0</td>\n",
       "    </tr>\n",
       "    <tr>\n",
       "      <th>2</th>\n",
       "      <td>273.0</td>\n",
       "      <td>273.0</td>\n",
       "      <td>273.0</td>\n",
       "      <td>273.0</td>\n",
       "      <td>273.0</td>\n",
       "      <td>273.0</td>\n",
       "      <td>273.0</td>\n",
       "      <td>273.0</td>\n",
       "      <td>273.0</td>\n",
       "      <td>273.0</td>\n",
       "      <td>...</td>\n",
       "      <td>273.0</td>\n",
       "      <td>273.0</td>\n",
       "      <td>273.0</td>\n",
       "      <td>273.0</td>\n",
       "      <td>273.0</td>\n",
       "      <td>273.0</td>\n",
       "      <td>273.0</td>\n",
       "      <td>273.0</td>\n",
       "      <td>273.0</td>\n",
       "      <td>273.0</td>\n",
       "    </tr>\n",
       "    <tr>\n",
       "      <th>3</th>\n",
       "      <td>138.0</td>\n",
       "      <td>138.0</td>\n",
       "      <td>138.0</td>\n",
       "      <td>138.0</td>\n",
       "      <td>138.0</td>\n",
       "      <td>138.0</td>\n",
       "      <td>138.0</td>\n",
       "      <td>138.0</td>\n",
       "      <td>138.0</td>\n",
       "      <td>138.0</td>\n",
       "      <td>...</td>\n",
       "      <td>138.0</td>\n",
       "      <td>138.0</td>\n",
       "      <td>138.0</td>\n",
       "      <td>138.0</td>\n",
       "      <td>138.0</td>\n",
       "      <td>138.0</td>\n",
       "      <td>138.0</td>\n",
       "      <td>138.0</td>\n",
       "      <td>138.0</td>\n",
       "      <td>138.0</td>\n",
       "    </tr>\n",
       "    <tr>\n",
       "      <th>4</th>\n",
       "      <td>238.0</td>\n",
       "      <td>238.0</td>\n",
       "      <td>238.0</td>\n",
       "      <td>238.0</td>\n",
       "      <td>238.0</td>\n",
       "      <td>238.0</td>\n",
       "      <td>238.0</td>\n",
       "      <td>238.0</td>\n",
       "      <td>238.0</td>\n",
       "      <td>238.0</td>\n",
       "      <td>...</td>\n",
       "      <td>238.0</td>\n",
       "      <td>238.0</td>\n",
       "      <td>238.0</td>\n",
       "      <td>238.0</td>\n",
       "      <td>238.0</td>\n",
       "      <td>238.0</td>\n",
       "      <td>238.0</td>\n",
       "      <td>238.0</td>\n",
       "      <td>238.0</td>\n",
       "      <td>238.0</td>\n",
       "    </tr>\n",
       "  </tbody>\n",
       "</table>\n",
       "<p>5 rows × 500 columns</p>\n",
       "</div>"
      ],
      "text/plain": [
       "     0      1      2      3      4      5      6      7      8      9    ...  \\\n",
       "0  274.0  274.0  274.0  274.0  274.0  274.0  274.0  274.0  274.0  274.0  ...   \n",
       "1  127.0  127.0  127.0  127.0  127.0  127.0  127.0  127.0  127.0  127.0  ...   \n",
       "2  273.0  273.0  273.0  273.0  273.0  273.0  273.0  273.0  273.0  273.0  ...   \n",
       "3  138.0  138.0  138.0  138.0  138.0  138.0  138.0  138.0  138.0  138.0  ...   \n",
       "4  238.0  238.0  238.0  238.0  238.0  238.0  238.0  238.0  238.0  238.0  ...   \n",
       "\n",
       "     490    491    492    493    494    495    496    497    498    499  \n",
       "0  274.0  274.0  274.0  274.0  274.0  274.0  274.0  274.0  274.0  274.0  \n",
       "1  127.0  127.0  127.0  127.0  127.0  127.0  127.0  127.0  127.0  127.0  \n",
       "2  273.0  273.0  273.0  273.0  273.0  273.0  273.0  273.0  273.0  273.0  \n",
       "3  138.0  138.0  138.0  138.0  138.0  138.0  138.0  138.0  138.0  138.0  \n",
       "4  238.0  238.0  238.0  238.0  238.0  238.0  238.0  238.0  238.0  238.0  \n",
       "\n",
       "[5 rows x 500 columns]"
      ]
     },
     "execution_count": 49,
     "metadata": {},
     "output_type": "execute_result"
    }
   ],
   "source": [
    "df.head()"
   ]
  },
  {
   "cell_type": "code",
   "execution_count": 68,
   "id": "925d3be6-c0cf-498b-9d4f-cbe863af3033",
   "metadata": {},
   "outputs": [
    {
     "data": {
      "text/plain": [
       "1.2587338400883996"
      ]
     },
     "execution_count": 68,
     "metadata": {},
     "output_type": "execute_result"
    }
   ],
   "source": [
    "X[:,1,24].std()"
   ]
  },
  {
   "cell_type": "code",
   "execution_count": 66,
   "id": "b518dc27-f20a-48a2-afd6-aa4b32cd9ed5",
   "metadata": {},
   "outputs": [
    {
     "data": {
      "text/plain": [
       "1.0"
      ]
     },
     "execution_count": 66,
     "metadata": {},
     "output_type": "execute_result"
    }
   ],
   "source": [
    "X[:,:,24].std(axis=1).max()"
   ]
  },
  {
   "cell_type": "code",
   "execution_count": null,
   "id": "0af25e8d-c300-44dc-88bf-e26d3230004a",
   "metadata": {},
   "outputs": [],
   "source": []
  }
 ],
 "metadata": {
  "kernelspec": {
   "display_name": "Python 3 (ipykernel)",
   "language": "python",
   "name": "python3"
  },
  "language_info": {
   "codemirror_mode": {
    "name": "ipython",
    "version": 3
   },
   "file_extension": ".py",
   "mimetype": "text/x-python",
   "name": "python",
   "nbconvert_exporter": "python",
   "pygments_lexer": "ipython3",
   "version": "3.11.5"
  }
 },
 "nbformat": 4,
 "nbformat_minor": 5
}
